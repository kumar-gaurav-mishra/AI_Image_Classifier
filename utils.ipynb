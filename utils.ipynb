{
 "cells": [
  {
   "cell_type": "markdown",
   "metadata": {},
   "source": [
    "# This file contains all the helper functions required to train the Deep Neural Network"
   ]
  },
  {
   "cell_type": "code",
   "execution_count": 2,
   "metadata": {},
   "outputs": [],
   "source": [
    "# Impors\n",
    "import numpy as np\n",
    "import matplotlib.pyplot as plt\n",
    "import h5py\n",
    "\n",
    "%matplotlib inline\n",
    "plt.rcParams['figure.figsize'] = (6.0, 5.0)\n",
    "plt.rcParams['image.interpolation'] = 'nearest'\n",
    "plt.rcParams['image.cmap'] = 'gray'\n",
    "\n",
    "np.random.seed(1)"
   ]
  },
  {
   "cell_type": "code",
   "execution_count": 3,
   "metadata": {},
   "outputs": [],
   "source": [
    "# Initialize the b and w for deep NN\n",
    "def initialize_parameters(layer_dims):\n",
    "    np.random.seed(3)\n",
    "    params = {}\n",
    "    L = len(layer_dims)\n",
    "\n",
    "    for l in range(1, L):\n",
    "        params['W'+str(l)] = np.random.randn(layer_dims[l], layer_dims[l - 1]) * 0.01\n",
    "        params['b'+str(l)] = np.zeros((layer_dims[l], 1))\n",
    "\n",
    "        # Verify the dimetions of the each layer W and b\n",
    "        assert(params['W' + str(l)]).shape == (layer_dims[l], layer_dims[l-1])\n",
    "        assert(params['b' + str(l)]).shape == (layer_dims[l], 1) \n",
    "\n",
    "    return params"
   ]
  },
  {
   "cell_type": "code",
   "execution_count": 11,
   "metadata": {},
   "outputs": [
    {
     "name": "stdout",
     "output_type": "stream",
     "text": [
      "W1 =  (7, 8)\n",
      "b1 =  (7, 1)\n",
      "W2 =  (2, 7)\n",
      "b2 =  (2, 1)\n",
      "W3 =  (9, 2)\n",
      "b3 =  (9, 1)\n",
      "W4 =  (1, 9)\n",
      "b4 =  (1, 1)\n"
     ]
    }
   ],
   "source": [
    "# Verify the output of the function\n",
    "parameters = initialize_parameters([8,7,2,9,1])\n",
    "print(\"W1 = \" , (parameters[\"W1\"]).shape)\n",
    "print(\"b1 = \" , (parameters[\"b1\"]).shape)\n",
    "print(\"W2 = \" , (parameters[\"W2\"]).shape)\n",
    "print(\"b2 = \" , (parameters[\"b2\"]).shape)\n",
    "print(\"W3 = \" , (parameters[\"W3\"]).shape)\n",
    "print(\"b3 = \" , (parameters[\"b3\"]).shape)\n",
    "print(\"W4 = \" , (parameters[\"W4\"]).shape)\n",
    "print(\"b4 = \" , (parameters[\"b4\"]).shape)"
   ]
  },
  {
   "cell_type": "markdown",
   "metadata": {},
   "source": [
    "Output should be:\n",
    "W1 =  (7, 8)\n",
    "b1 =  (7, 1)\n",
    "W2 =  (2, 7)\n",
    "b2 =  (2, 1)\n",
    "W3 =  (9, 2)\n",
    "b3 =  (9, 1)\n",
    "W4 =  (1, 9)\n",
    "b4 =  (1, 1)\n"
   ]
  },
  {
   "cell_type": "code",
   "execution_count": 12,
   "metadata": {},
   "outputs": [],
   "source": [
    "# Activation functions\n",
    "def linear_activation(A, W, b):\n",
    "    Z = np.dot(W, A) + b\n",
    "\n",
    "    #verify the output shape for proper activation\n",
    "    assert(Z.shape == (W.shape[0], A.shape[1]))\n",
    "\n",
    "    cache = (A, W, b)\n",
    "    return Z, cache"
   ]
  },
  {
   "cell_type": "markdown",
   "metadata": {},
   "source": [
    "For given A, W and b:\n",
    "A = [[ 1.62434536, -0.61175641]\n",
    " [-0.52817175, -1.07296862]\n",
    " [ 0.86540763, -2.3015387 ]]\n",
    "\n",
    "W = [[ 1.74481176, -0.7612069,   0.3190391 ]]\n",
    "b = [[-0.24937038]]\n",
    "\n",
    "Z should be:\n",
    "Z = [[ 3.26295337, -1.23429987]]"
   ]
  },
  {
   "cell_type": "code",
   "execution_count": 16,
   "metadata": {},
   "outputs": [
    {
     "name": "stdout",
     "output_type": "stream",
     "text": [
      "[[ 3.26295336 -1.23429988]]\n"
     ]
    }
   ],
   "source": [
    "# Verify linear_activation function output\n",
    "A = np.array([[ 1.62434536, -0.61175641],[-0.52817175, -1.07296862],[ 0.86540763, -2.3015387 ]])\n",
    "\n",
    "W = np.array([[ 1.74481176, -0.7612069,   0.3190391 ]])\n",
    "\n",
    "b = np.array([[-0.24937038]])\n",
    "\n",
    "Z, cache = linear_activation(A, W, b)\n",
    "\n",
    "print(Z)"
   ]
  },
  {
   "cell_type": "code",
   "execution_count": null,
   "metadata": {},
   "outputs": [],
   "source": []
  }
 ],
 "metadata": {
  "kernelspec": {
   "display_name": "base",
   "language": "python",
   "name": "python3"
  },
  "language_info": {
   "codemirror_mode": {
    "name": "ipython",
    "version": 3
   },
   "file_extension": ".py",
   "mimetype": "text/x-python",
   "name": "python",
   "nbconvert_exporter": "python",
   "pygments_lexer": "ipython3",
   "version": "3.12.7"
  }
 },
 "nbformat": 4,
 "nbformat_minor": 2
}
