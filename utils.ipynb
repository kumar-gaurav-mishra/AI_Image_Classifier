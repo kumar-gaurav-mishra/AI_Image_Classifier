{
 "cells": [
  {
   "cell_type": "markdown",
   "metadata": {},
   "source": [
    "# This file contains all the helper functions required to train the Deep Neural Network"
   ]
  },
  {
   "cell_type": "code",
   "execution_count": 2,
   "metadata": {},
   "outputs": [
    {
     "name": "stderr",
     "output_type": "stream",
     "text": [
      "Matplotlib is building the font cache; this may take a moment.\n"
     ]
    }
   ],
   "source": [
    "# Impors\n",
    "import numpy as np\n",
    "import matplotlib.pyplot as plt\n",
    "import h5py\n",
    "\n",
    "%matplotlib inline\n",
    "plt.rcParams['figure.figsize'] = (6.0, 5.0)\n",
    "plt.rcParams['image.interpolation'] = 'nearest'\n",
    "plt.rcParams['image.cmap'] = 'gray'\n",
    "\n",
    "np.random.seed(1)"
   ]
  },
  {
   "cell_type": "code",
   "execution_count": 3,
   "metadata": {},
   "outputs": [],
   "source": [
    "# Initialize the b and w for deep NN\n",
    "def initialize_parameters(layer_dims):\n",
    "    np.random.seed(3)\n",
    "    params = {}\n",
    "    L = len(layer_dims)\n",
    "\n",
    "    for l in range(1, L):\n",
    "        params['W'+str(l)] = np.random.randn(layer_dims[l], layer_dims[l - 1]) * 0.01\n",
    "        params['b'+str(l)] = np.zeros((layer_dims[l], 1))\n",
    "\n",
    "        # Verify the dimetions of the each layer W and b\n",
    "        assert(params['W' + str(l)]).shape == (layer_dims[l], layer_dims[l-1])\n",
    "        assert(params['b' + str(l)]).shape == (layer_dims[l], 1) \n",
    "\n",
    "    return params"
   ]
  },
  {
   "cell_type": "code",
   "execution_count": 4,
   "metadata": {},
   "outputs": [
    {
     "name": "stdout",
     "output_type": "stream",
     "text": [
      "W1 =  (7, 8)\n",
      "b1 =  (7, 1)\n",
      "W2 =  (2, 7)\n",
      "b2 =  (2, 1)\n",
      "W3 =  (9, 2)\n",
      "b3 =  (9, 1)\n",
      "W4 =  (1, 9)\n",
      "b4 =  (1, 1)\n"
     ]
    }
   ],
   "source": [
    "# Verify the output of the function\n",
    "parameters = initialize_parameters([8,7,2,9,1])\n",
    "print(\"W1 = \" , (parameters[\"W1\"]).shape)\n",
    "print(\"b1 = \" , (parameters[\"b1\"]).shape)\n",
    "print(\"W2 = \" , (parameters[\"W2\"]).shape)\n",
    "print(\"b2 = \" , (parameters[\"b2\"]).shape)\n",
    "print(\"W3 = \" , (parameters[\"W3\"]).shape)\n",
    "print(\"b3 = \" , (parameters[\"b3\"]).shape)\n",
    "print(\"W4 = \" , (parameters[\"W4\"]).shape)\n",
    "print(\"b4 = \" , (parameters[\"b4\"]).shape)"
   ]
  },
  {
   "cell_type": "markdown",
   "metadata": {},
   "source": [
    "Output should be:\n",
    "W1 =  (7, 8)\n",
    "b1 =  (7, 1)\n",
    "W2 =  (2, 7)\n",
    "b2 =  (2, 1)\n",
    "W3 =  (9, 2)\n",
    "b3 =  (9, 1)\n",
    "W4 =  (1, 9)\n",
    "b4 =  (1, 1)\n"
   ]
  },
  {
   "cell_type": "code",
   "execution_count": 5,
   "metadata": {},
   "outputs": [],
   "source": [
    "# Activation functions\n",
    "# Linear Activation Function\n",
    "def linear_activation(A, W, b):\n",
    "    Z = np.dot(W, A) + b\n",
    "\n",
    "    #verify the output shape for proper activation\n",
    "    assert(Z.shape == (W.shape[0], A.shape[1]))\n",
    "\n",
    "    cache = (A, W, b)\n",
    "    return Z, cache\n",
    "\n",
    "# Sigmoid Activation Function\n",
    "def sigmoid(Z):\n",
    "    A = 1/(1 + np.exp(-Z))\n",
    "    cache = Z\n",
    "    return A, cache\n",
    "\n",
    "# Relu Activation Function\n",
    "def relu(Z):\n",
    "    A = np.maximum(0, Z)\n",
    "    cache = Z\n",
    "    return A, cache"
   ]
  },
  {
   "cell_type": "markdown",
   "metadata": {},
   "source": [
    "For given A, W and b:\n",
    "A = [[ 1.62434536, -0.61175641]\n",
    " [-0.52817175, -1.07296862]\n",
    " [ 0.86540763, -2.3015387 ]]\n",
    "\n",
    "W = [[ 1.74481176, -0.7612069,   0.3190391 ]]\n",
    "b = [[-0.24937038]]\n",
    "\n",
    "Z should be:\n",
    "Z = [[ 3.26295337, -1.23429987]]"
   ]
  },
  {
   "cell_type": "code",
   "execution_count": 6,
   "metadata": {},
   "outputs": [
    {
     "name": "stdout",
     "output_type": "stream",
     "text": [
      "Linear:  [[ 3.26295336 -1.23429988]]\n",
      "Sigmoid:  [[0.96313579 0.22542973]]\n",
      "Relu:  [[3.26295336 0.        ]]\n"
     ]
    }
   ],
   "source": [
    "# Verify linear_activation function output\n",
    "A = np.array([[ 1.62434536, -0.61175641],[-0.52817175, -1.07296862],[ 0.86540763, -2.3015387 ]])\n",
    "\n",
    "W = np.array([[ 1.74481176, -0.7612069,   0.3190391 ]])\n",
    "\n",
    "b = np.array([[-0.24937038]])\n",
    "\n",
    "Z, cache = linear_activation(A, W, b)\n",
    "A_sig, cache = sigmoid(Z)\n",
    "A_relu, cache = relu(Z)\n",
    "\n",
    "print('Linear: ', Z)\n",
    "print('Sigmoid: ', A_sig)\n",
    "print('Relu: ', A_relu)"
   ]
  },
  {
   "cell_type": "code",
   "execution_count": 7,
   "metadata": {},
   "outputs": [],
   "source": [
    "# Activation Function forward\n",
    "def activation_forward(A_prev, W, b, activation):\n",
    "    Z, linear_cache = linear_activation(A_prev, W, b)\n",
    "    if activation == 'sigmoid':\n",
    "        A, activation_cache = sigmoid(Z)\n",
    "    elif activation == 'relu':\n",
    "        A, activation_cache = relu(Z)\n",
    "    \n",
    "    # Output verification\n",
    "    assert(A.shape == (W.shape[0], A_prev.shape[1]))\n",
    "    \n",
    "    cache = (linear_cache, activation_cache)\n",
    "    \n",
    "    return A, cache\n",
    "        \n"
   ]
  },
  {
   "cell_type": "code",
   "execution_count": 8,
   "metadata": {},
   "outputs": [
    {
     "name": "stdout",
     "output_type": "stream",
     "text": [
      "With sigmoid: A = [[0.96890023 0.11013289]]\n",
      "With ReLU: A = [[3.43896134 0.        ]]\n"
     ]
    }
   ],
   "source": [
    "A_prev = np.array([[-0.41675785, -0.05626683], [-2.1361961,   1.64027081], [-1.79343559, -0.84174737]])\n",
    "W = np.array([[ 0.50288142, -1.24528809, -1.05795222]])\n",
    "b = np.array([[-0.90900761]])\n",
    "\n",
    "A, linear_cache = activation_forward(A_prev, W, b, activation = \"sigmoid\")\n",
    "print(\"With sigmoid: A = \" + str(A))\n",
    "\n",
    "A, activation_cache = activation_forward(A_prev, W, b, activation = \"relu\")\n",
    "print(\"With ReLU: A = \" + str(A))"
   ]
  },
  {
   "cell_type": "code",
   "execution_count": 11,
   "metadata": {},
   "outputs": [],
   "source": [
    "# Linear Model Function Which replicate the n layers and uses different activation function for different layers\n",
    "def linear_model(X, params):\n",
    "    caches = []\n",
    "    A = X\n",
    "    L = int(len(params) / 2)\n",
    "    print(\"Length of the Layers : \", L)\n",
    "    for l in range(1, L):\n",
    "        A_prev = A\n",
    "        A, cache = activation_forward(A_prev, params['W' + str(l)], params['b'+str(l)], 'relu')\n",
    "        caches.append(cache)\n",
    "    AL, cache = activation_forward(A, params['W' + str(L)], params['b' + str(L)], 'sigmoid' )\n",
    "    caches.append(cache)\n",
    "\n",
    "    # Verify the output shape\n",
    "    assert(AL.shape == (1, X.shape[1]))\n",
    "    return AL, caches"
   ]
  },
  {
   "cell_type": "code",
   "execution_count": 12,
   "metadata": {},
   "outputs": [
    {
     "name": "stdout",
     "output_type": "stream",
     "text": [
      "Length of the Layers :  3\n",
      "AL = [[0.03921668 0.70498921 0.19734387 0.04728177]]\n",
      "Length of caches list = 3\n"
     ]
    }
   ],
   "source": [
    "# Verify the output\n",
    "X = np.array([[-0.31178367,  0.72900392, 0.21782079, -0.8990918 ],\n",
    " [-2.48678065,  0.91325152,  1.12706373, -1.51409323],\n",
    " [ 1.63929108, -0.4298936,   2.63128056,  0.60182225],\n",
    " [-0.33588161,  1.23773784,  0.11112817,  0.12915125],\n",
    " [ 0.07612761, -0.15512816,  0.63422534,  0.810655  ]])\n",
    "params = {'W1': np.array([[ 0.35480861,  1.81259031, -1.3564758 , -0.46363197,  0.82465384],\n",
    "       [-1.17643148,  1.56448966,  0.71270509, -0.1810066 ,  0.53419953],\n",
    "       [-0.58661296, -1.48185327,  0.85724762,  0.94309899,  0.11444143],\n",
    "       [-0.02195668, -2.12714455, -0.83440747, -0.46550831,  0.23371059]]), \n",
    "       'b1': np.array([[ 1.38503523], [-0.51962709], [-0.78015214], [ 0.95560959]]), \n",
    "       'W2': np.array([[-0.12673638, -1.36861282,  1.21848065, -0.85750144], [-0.56147088, -1.0335199 ,  0.35877096,  1.07368134], [-0.37550472,  0.39636757, -0.47144628,  2.33660781]]), \n",
    "       'b2': np.array([[ 1.50278553], [-0.59545972], [ 0.52834106]]), \n",
    "       'W3': np.array([[ 0.9398248 ,  0.42628539, -0.75815703]]), \n",
    "       'b3': np.array([[-0.16236698]])}\n",
    "AL, caches = linear_model(X, params)\n",
    "print(\"AL = \" + str(AL))\n",
    "print(\"Length of caches list = \" + str(len(caches)))\n"
   ]
  },
  {
   "cell_type": "code",
   "execution_count": 15,
   "metadata": {},
   "outputs": [],
   "source": [
    "# Conpute Cost (Cost Function)\n",
    "def compute_cost(AL, Y):\n",
    "    m = Y.shape[1]\n",
    "    cost = (-1/m)*(np.dot(Y, np.log(AL).T) + np.dot((1 - Y), np.log(1 - AL).T))\n",
    "    cost = np.squeeze(cost)\n",
    "    return cost"
   ]
  },
  {
   "cell_type": "markdown",
   "metadata": {},
   "source": [
    "For given Y and AL :  Y = np.array([[1, 1, 0]])\n",
    "AL = np.array([[0.8, 0.9, 0.4]])\n",
    "Cost should be 0.2797765635793422"
   ]
  },
  {
   "cell_type": "code",
   "execution_count": 16,
   "metadata": {},
   "outputs": [
    {
     "name": "stdout",
     "output_type": "stream",
     "text": [
      "Cost:  0.2797765635793422\n"
     ]
    }
   ],
   "source": [
    "#Test the cost function\n",
    "Y = np.array([[1, 1, 0]])\n",
    "AL = np.array([[0.8, 0.9, 0.4]])\n",
    "cost = compute_cost(AL, Y)\n",
    "print('Cost: ', cost)\n"
   ]
  },
  {
   "cell_type": "markdown",
   "metadata": {},
   "source": [
    "# Backward Propogation"
   ]
  },
  {
   "cell_type": "code",
   "execution_count": 1,
   "metadata": {},
   "outputs": [],
   "source": [
    "# Backward Activation functions\n",
    "# Linear Backward Activation Function\n",
    "def linear_backward_activation(dZ, cache):\n",
    "    A_prev, W, b = cache\n",
    "    m = A_prev.shape[1]\n",
    "\n",
    "    dA_prev = np.dot(W.T, dZ)\n",
    "    dW = (1/m) * np.dot(dZ, A_prev.T)\n",
    "    db = (1 / m) * np.sum(dZ, axis=1, keepdims=True)\n",
    "\n",
    "    assert (dA_prev.shape == A_prev.shape)\n",
    "    assert (dW.shape == W.shape)\n",
    "    assert (db.shape == b.shape)\n",
    "    \n",
    "    return dA_prev, dW, db\n",
    "\n",
    "# Sigmoid Backward Activation Function\n",
    "def sigmoid_backward_activation(dA, cache):\n",
    "    Z = cache\n",
    "    s = 1/(1 + np.exp(-Z))\n",
    "    dZ = dA * s * (1 - s)\n",
    "    assert(dZ.shape == Z.shape)\n",
    "    return dZ\n",
    "\n",
    "# Relu Backward Activation Function\n",
    "def relu_backward_activation(dA, cache):\n",
    "    Z = cache\n",
    "    dZ = np.array(dA, copy=True)\n",
    "    dZ[Z <= 0] = 0\n",
    "    assert(dZ.shape == Z.shape)\n",
    "    return dZ"
   ]
  },
  {
   "cell_type": "code",
   "execution_count": null,
   "metadata": {},
   "outputs": [],
   "source": []
  }
 ],
 "metadata": {
  "kernelspec": {
   "display_name": "base",
   "language": "python",
   "name": "python3"
  },
  "language_info": {
   "codemirror_mode": {
    "name": "ipython",
    "version": 3
   },
   "file_extension": ".py",
   "mimetype": "text/x-python",
   "name": "python",
   "nbconvert_exporter": "python",
   "pygments_lexer": "ipython3",
   "version": "3.12.7"
  }
 },
 "nbformat": 4,
 "nbformat_minor": 2
}
